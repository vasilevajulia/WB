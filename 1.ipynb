{
 "cells": [
  {
   "metadata": {},
   "cell_type": "markdown",
   "source": "<h2>Задание 1.1</h2>",
   "id": "85b4e3e3a063dd31"
  },
  {
   "cell_type": "code",
   "id": "initial_id",
   "metadata": {
    "collapsed": true,
    "ExecuteTime": {
     "end_time": "2024-11-25T19:20:54.303233Z",
     "start_time": "2024-11-25T19:20:54.285896Z"
    }
   },
   "source": [
    "import pandas as pd\n",
    "file_path = 'shopping_trends.csv'\n",
    "\n",
    "try:\n",
    "    data = pd.read_csv(file_path)\n",
    "except FileNotFoundError:\n",
    "    print(f\"Ошибка: Файл '{file_path}' не найден. Проверьте путь и повторите попытку.\")\n",
    "    exit()\n",
    "\n",
    "df=data.copy()\n",
    "subscribed = df[df['Subscription Status'] == 'Yes']\n",
    "not_subscribed = df[df['Subscription Status'] == 'No']\n",
    "express_subscribed = subscribed[subscribed['Shipping Type'] == 'Express']\n",
    "express_not_subscribed = not_subscribed[not_subscribed['Shipping Type'] == 'Express']\n",
    "\n",
    "print(len(express_subscribed) / len(subscribed))\n",
    "print(len(express_not_subscribed) / len(not_subscribed))"
   ],
   "outputs": [
    {
     "name": "stdout",
     "output_type": "stream",
     "text": [
      "0.18043684710351376\n",
      "0.1601685985247629\n"
     ]
    }
   ],
   "execution_count": 29
  },
  {
   "metadata": {},
   "cell_type": "markdown",
   "source": [
    "Доля покупателей с подпиской, использующих тип доставки \"Express\": 18.04%\n",
    "Доля покупателей без подписки, использующих тип доставки \"Express\": 16.02%\n",
    "Вывод:\n",
    "Покупатели с подпиской действительно чуть чаще выбирают \"Express\" как тип доставки по сравнению с покупателями без подписки. Однако разница между этими группами составляет примерно 2%, что может быть статистически незначимой. Для более точных выводов рекомендуется провести тест на статистическую значимость (например, с помощью теста пропорций)."
   ],
   "id": "17e11aeb93086c56"
  },
  {
   "metadata": {
    "ExecuteTime": {
     "end_time": "2024-11-25T19:15:52.801818Z",
     "start_time": "2024-11-25T19:15:52.797912Z"
    }
   },
   "cell_type": "code",
   "source": [
    "correlation = df['Previous Purchases'].corr(df['Purchase Amount (USD)'])\n",
    "print(correlation)"
   ],
   "id": "ee1737d9c8fae55e",
   "outputs": [
    {
     "name": "stdout",
     "output_type": "stream",
     "text": [
      "0.008063412270587713\n"
     ]
    }
   ],
   "execution_count": 17
  },
  {
   "metadata": {},
   "cell_type": "markdown",
   "source": [
    "\n",
    "На основании вычисленного коэффициента корреляции 0.0081 можно сделать следующий вывод:\n",
    "Связь между количеством предыдущих покупок и суммой текущей покупки практически отсутствует, так как значение корреляции близко к нулю. Это означает, что количество предыдущих покупок не является значимым предиктором суммы текущей покупки."
   ],
   "id": "eadac983c6809cb8"
  },
  {
   "metadata": {
    "ExecuteTime": {
     "end_time": "2024-11-25T19:15:26.291951Z",
     "start_time": "2024-11-25T19:15:26.286466Z"
    }
   },
   "cell_type": "code",
   "source": [
    "# Покупатели с высоким рейтингом\n",
    "high_rated = df[df['Review Rating'] >= 4]\n",
    "# Покупки с применением скидки\n",
    "discounted_high_rated = high_rated[high_rated['Discount Applied'] == 'Yes']\n",
    "print(len(discounted_high_rated) / len(high_rated))\n"
   ],
   "id": "48635c1b4cd05410",
   "outputs": [
    {
     "name": "stdout",
     "output_type": "stream",
     "text": [
      "0.42700729927007297\n"
     ]
    }
   ],
   "execution_count": 10
  },
  {
   "metadata": {},
   "cell_type": "markdown",
   "source": [
    "\n",
    "На основании вычисленного коэффициента корреляции можно сделать следующий вывод:\n",
    "Существует умеренная положительная корреляция между рейтингом обзоров и использованием скидок: коэффициент 0.427 указывает на то, что покупатели с более высокими рейтингами обзоров (4-5) действительно имеют тенденцию чаще покупать товары с большими скидками. Это может свидетельствовать о том, что более удовлетворенные покупатели (с высоким рейтингом обзора) склонны искать и использовать скидки при совершении покупок.\n"
   ],
   "id": "5a340577d7a5394"
  },
  {
   "metadata": {
    "ExecuteTime": {
     "end_time": "2024-11-25T19:16:04.343660Z",
     "start_time": "2024-11-25T19:16:04.337765Z"
    }
   },
   "cell_type": "code",
   "source": [
    "free_shipping = df[df['Shipping Type'] == 'Free Shipping']\n",
    "clothing_free_shipping = free_shipping[free_shipping['Category'] == 'Clothing']\n",
    "print(len(clothing_free_shipping) / len(free_shipping))\n"
   ],
   "id": "94a24b178b863d0f",
   "outputs": [
    {
     "name": "stdout",
     "output_type": "stream",
     "text": [
      "0.43555555555555553\n"
     ]
    }
   ],
   "execution_count": 21
  },
  {
   "metadata": {},
   "cell_type": "markdown",
   "source": "Существует умеренная положительная корреляция между выбором бесплатным типом доставки и покупками в категории \"Clothing\". Коэффициент 0.4356 указывает на то, что покупатели, заинтересованные в бесплатной доставке, могут быть более склонны выбирать товары из категории \"Clothing\", возможно, из-за более выгодных предложений или привычки покупок в этой категории.",
   "id": "6414de485525acef"
  },
  {
   "metadata": {
    "ExecuteTime": {
     "end_time": "2024-11-25T19:16:09.375663Z",
     "start_time": "2024-11-25T19:16:09.369146Z"
    }
   },
   "cell_type": "code",
   "source": [
    "california_purchases = df[df['Location'] == 'California']\n",
    "outerwear_california = california_purchases[california_purchases['Category'] == 'Outerwear']\n",
    "print(len(outerwear_california) / len(california_purchases))\n"
   ],
   "id": "4fabdc061a3b8014",
   "outputs": [
    {
     "name": "stdout",
     "output_type": "stream",
     "text": [
      "0.06315789473684211\n"
     ]
    }
   ],
   "execution_count": 27
  },
  {
   "metadata": {},
   "cell_type": "markdown",
   "source": [
    "\n",
    "На основании вычисленного коэффициента корреляции 0.0632 можно сделать следующий вывод:\n",
    "Связь между покупателями из штата \"California\" и покупками в категории \"Outerwear\" практически отсутствует, так как значение корреляции очень низкое и близко к нулю. Это говорит о том, что штат покупателя (\"California\") не является значимым фактором, определяющим склонность к покупкам в категории \"Outerwear\"."
   ],
   "id": "f5c2a3004b5455dd"
  },
  {
   "metadata": {
    "ExecuteTime": {
     "end_time": "2024-11-25T19:30:47.443050Z",
     "start_time": "2024-11-25T19:30:47.440828Z"
    }
   },
   "cell_type": "code",
   "source": [
    "from scipy import stats\n",
    "from collections import Counter"
   ],
   "id": "4aaa370c49aae157",
   "outputs": [],
   "execution_count": 33
  },
  {
   "metadata": {},
   "cell_type": "markdown",
   "source": "<h2>Задание 1.2</h2>",
   "id": "fa3430ddc6748097"
  },
  {
   "metadata": {
    "ExecuteTime": {
     "end_time": "2024-11-25T19:54:30.866433Z",
     "start_time": "2024-11-25T19:54:30.861599Z"
    }
   },
   "cell_type": "code",
   "source": [
    "popular = df['Item Purchased'].value_counts().idxmax()\n",
    "print(\"Самый популярный товар:\", popular)"
   ],
   "id": "f9bfb9a1d9eabe90",
   "outputs": [
    {
     "name": "stdout",
     "output_type": "stream",
     "text": [
      "Самый популярный товар: Blouse\n"
     ]
    }
   ],
   "execution_count": 72
  },
  {
   "metadata": {},
   "cell_type": "markdown",
   "source": "Распределение покупателей по полу",
   "id": "31ba7254f646a5f1"
  },
  {
   "metadata": {
    "ExecuteTime": {
     "end_time": "2024-11-25T19:37:08.898332Z",
     "start_time": "2024-11-25T19:37:08.890996Z"
    }
   },
   "cell_type": "code",
   "source": "df['Gender'].value_counts()",
   "id": "85728ff8f0aaf23d",
   "outputs": [
    {
     "data": {
      "text/plain": [
       "Gender\n",
       "Male      2652\n",
       "Female    1248\n",
       "Name: count, dtype: int64"
      ]
     },
     "execution_count": 43,
     "metadata": {},
     "output_type": "execute_result"
    }
   ],
   "execution_count": 43
  },
  {
   "metadata": {},
   "cell_type": "markdown",
   "source": "",
   "id": "db2a58c6bba143a1"
  },
  {
   "metadata": {
    "ExecuteTime": {
     "end_time": "2024-11-25T19:39:49.985775Z",
     "start_time": "2024-11-25T19:39:49.979257Z"
    }
   },
   "cell_type": "code",
   "source": [
    "total_purchase_gender = df.groupby('Gender')['Purchase Amount (USD)'].sum()\n",
    "total_purchase_age = df.groupby('Age')['Purchase Amount (USD)'].sum()\n",
    "\n",
    "frequency_gender = df['Gender'].value_counts()\n",
    "frequency_age = df['Age'].value_counts()\n",
    "\n",
    "most_expensive_gender = df.groupby('Gender')['Purchase Amount (USD)'].max()\n",
    "most_expensive_age = df.groupby('Age')['Purchase Amount (USD)'].max()\n",
    "print(\"Кто покупает больше всего по полу:\\n\", total_purchase_gender)\n",
    "print(\"Кто покупает чаще всего по полу:\\n\", frequency_gender)\n",
    "print(\"Самая дорогая покупка по полу:\\n\", most_expensive_gender)"
   ],
   "id": "4adc6c454babdf73",
   "outputs": [
    {
     "name": "stdout",
     "output_type": "stream",
     "text": [
      "Кто покупает больше всего по полу:\n",
      " Gender\n",
      "Female     75191\n",
      "Male      157890\n",
      "Name: Purchase Amount (USD), dtype: int64\n",
      "Кто покупает чаще всего по полу:\n",
      " Gender\n",
      "Male      2652\n",
      "Female    1248\n",
      "Name: count, dtype: int64\n",
      "Самая дорогая покупка по полу:\n",
      " Gender\n",
      "Female    100\n",
      "Male      100\n",
      "Name: Purchase Amount (USD), dtype: int64\n"
     ]
    }
   ],
   "execution_count": 52
  },
  {
   "metadata": {
    "ExecuteTime": {
     "end_time": "2024-11-25T19:50:52.433287Z",
     "start_time": "2024-11-25T19:50:52.423442Z"
    }
   },
   "cell_type": "code",
   "source": [
    "color_season_table = pd.crosstab(df['Color'], df['Season'])\n",
    "# Хи-квадрат тест\n",
    "chi2, p_value, dof, expected = stats.chi2_contingency(color_season_table)\n",
    "if p_value < 0.05:\n",
    "    print(\"Есть статистически значимая зависимость между цветом одежды и сезоном.\")\n",
    "else:\n",
    "    print(\"Нет статистически значимой зависимости между цветом одежды и сезоном.\")"
   ],
   "id": "b801262d14a6f0b3",
   "outputs": [
    {
     "name": "stdout",
     "output_type": "stream",
     "text": [
      "Нет статистически значимой зависимости между цветом одежды и сезоном.\n"
     ]
    }
   ],
   "execution_count": 65
  },
  {
   "metadata": {
    "ExecuteTime": {
     "end_time": "2024-11-25T19:51:36.339983Z",
     "start_time": "2024-11-25T19:51:36.332738Z"
    }
   },
   "cell_type": "code",
   "source": [
    "df['Season'] = df['Season'].str.lower()  # Приводим к единому виду\n",
    "mau_season = df.groupby('Season')['Customer ID'].nunique()\n",
    "mau_dynamic = mau_season.pct_change()\n",
    "print(\"Сезонный MAU:\\n\", mau_season)\n",
    "print(\"Динамика MAU:\\n\", mau_dynamic)"
   ],
   "id": "680bab8d8018cc87",
   "outputs": [
    {
     "name": "stdout",
     "output_type": "stream",
     "text": [
      "Сезонный MAU:\n",
      " Season\n",
      "fall      975\n",
      "spring    999\n",
      "summer    955\n",
      "winter    971\n",
      "Name: Customer ID, dtype: int64\n",
      "Динамика MAU:\n",
      " Season\n",
      "fall           NaN\n",
      "spring    0.024615\n",
      "summer   -0.044044\n",
      "winter    0.016754\n",
      "Name: Customer ID, dtype: float64\n"
     ]
    }
   ],
   "execution_count": 67
  },
  {
   "metadata": {
    "ExecuteTime": {
     "end_time": "2024-11-25T19:51:39.052370Z",
     "start_time": "2024-11-25T19:51:39.045981Z"
    }
   },
   "cell_type": "code",
   "source": [
    "clothing_items = df[df['Category'] == 'Clothing']['Item Purchased']\n",
    "letters = ''.join(clothing_items).lower()\n",
    "most_common_letter = Counter(letters).most_common(1)[0][0]\n",
    "print(\"Самая популярная буква в названии одежды:\", most_common_letter)"
   ],
   "id": "a634df629a058464",
   "outputs": [
    {
     "name": "stdout",
     "output_type": "stream",
     "text": [
      "Самая популярная буква в названии одежды: s\n"
     ]
    }
   ],
   "execution_count": 68
  },
  {
   "metadata": {},
   "cell_type": "markdown",
   "source": "<h1>Задание 2</h1>\n",
   "id": "79a3da0ff7d3ab57"
  },
  {
   "metadata": {
    "ExecuteTime": {
     "end_time": "2024-11-25T20:06:10.228928Z",
     "start_time": "2024-11-25T20:06:10.220646Z"
    }
   },
   "cell_type": "code",
   "source": [
    "file_path = 'drinks.csv'\n",
    "\n",
    "try:\n",
    "    data = pd.read_csv(file_path)\n",
    "except FileNotFoundError:\n",
    "    print(f\"Ошибка: Файл '{file_path}' не найден. Проверьте путь и повторите попытку.\")\n",
    "    exit()\n",
    "\n",
    "df=data.copy()\n",
    "# Поиск стран с максимальным потреблением\n",
    "max_beer = df.loc[df['beer_servings'].idxmax()]\n",
    "max_spirit = df.loc[df['spirit_servings'].idxmax()]\n",
    "max_wine = df.loc[df['wine_servings'].idxmax()]\n",
    "\n",
    "print(f\"Страна с наибольшим потреблением пива: {max_beer['country']} ({max_beer['beer_servings']} servings)\")\n",
    "print(f\"Страна с наибольшим потреблением крепкого алкоголя: {max_spirit['country']} ({max_spirit['spirit_servings']} servings)\")\n",
    "print(f\"Страна с наибольшим потреблением вина: {max_wine['country']} ({max_wine['wine_servings']} servings)\")\n",
    "print(\"\\nСравнение стран с максимальным потреблением алкоголя:\")\n",
    "print(df.loc[[max_beer.name, max_spirit.name, max_wine.name]])\n"
   ],
   "id": "f24c56df7ee7300f",
   "outputs": [
    {
     "name": "stdout",
     "output_type": "stream",
     "text": [
      "Страна с наибольшим потреблением пива: Namibia (376 servings)\n",
      "Страна с наибольшим потреблением крепкого алкоголя: Grenada (438 servings)\n",
      "Страна с наибольшим потреблением вина: France (370 servings)\n",
      "\n",
      "Сравнение стран с максимальным потреблением алкоголя:\n",
      "     country  beer_servings  spirit_servings  wine_servings  \\\n",
      "117  Namibia            376                3              1   \n",
      "68   Grenada            199              438             28   \n",
      "61    France            127              151            370   \n",
      "\n",
      "     total_litres_of_pure_alcohol  \n",
      "117                           6.8  \n",
      "68                           11.9  \n",
      "61                           11.8  \n"
     ]
    }
   ],
   "execution_count": 78
  },
  {
   "metadata": {},
   "cell_type": "markdown",
   "source": "<h1>Задание 3</h1>",
   "id": "9ac768808dc6ab3d"
  },
  {
   "metadata": {
    "ExecuteTime": {
     "end_time": "2024-11-25T20:22:18.751830Z",
     "start_time": "2024-11-25T20:22:18.736232Z"
    }
   },
   "cell_type": "code",
   "source": [
    "file_path = 'tarantino.csv'\n",
    "\n",
    "try:\n",
    "    data = pd.read_csv(file_path)\n",
    "except FileNotFoundError:\n",
    "    print(f\"Ошибка: Файл '{file_path}' не найден. Проверьте путь и повторите попытку.\")\n",
    "    exit()\n",
    "\n",
    "df=data.copy()\n",
    "curse = df[df['type'] == 'word'].groupby('movie')['word'].count().reset_index(name='curse')\n",
    "death = df[df['type'] == 'death'].groupby('movie')['type'].count().reset_index(name='death')\n",
    "movie_stats = pd.merge(curse, death, on='movie', how='outer').fillna(0)\n",
    "movie_stats['curse_to_death_ratio'] = movie_stats['curse'] / movie_stats['death']\n",
    "word_frequency = df[df['type'] == 'word']['word'].value_counts().reset_index()\n",
    "word_frequency.columns = ['word', 'frequency']\n",
    "curse_times = df[df['type'] == 'word'].sort_values('minutes_in')['minutes_in']\n",
    "time_differences = curse_times.diff().dropna().reset_index(drop=True)\n",
    "\n",
    "print(\"Число проклятий, летальных исходов и их соотношение по фильмам:\\n\", movie_stats)\n",
    "print(\"\\nЧастота употребления конкретных проклятий:\\n\", word_frequency)\n",
    "print(\"\\nРаспределение времени между проклятиями:\\n\", time_differences)"
   ],
   "id": "97c4ff3d63bf72b2",
   "outputs": [
    {
     "name": "stdout",
     "output_type": "stream",
     "text": [
      "Число проклятий, летальных исходов и их соотношение по фильмам:\n",
      "                  movie  curse  death  curse_to_death_ratio\n",
      "0     Django Unchained    262     47              5.574468\n",
      "1  Inglorious Basterds     58     48              1.208333\n",
      "2         Jackie Brown    368      4             92.000000\n",
      "3    Kill Bill: Vol. 1     57     63              0.904762\n",
      "4    Kill Bill: Vol. 2     69     11              6.272727\n",
      "5         Pulp Fiction    469      7             67.000000\n",
      "6       Reservoir Dogs    421     10             42.100000\n",
      "\n",
      "Частота употребления конкретных проклятий:\n",
      "              word  frequency\n",
      "0         fucking        407\n",
      "1            shit        221\n",
      "2            fuck        213\n",
      "3         n-word         179\n",
      "4             ass        140\n",
      "5         goddamn        113\n",
      "6    motherfucker         70\n",
      "7           bitch         64\n",
      "8            hell         45\n",
      "9            damn         37\n",
      "10  motherfucking         27\n",
      "11         fucked         25\n",
      "12  motherfuckers         15\n",
      "13       bullshit         15\n",
      "14           dick         14\n",
      "15          pussy         11\n",
      "16        bastard         10\n",
      "17        asshole         10\n",
      "18        bitches          9\n",
      "19         fucker          8\n",
      "20       assholes          5\n",
      "21          dicks          5\n",
      "22         negro           5\n",
      "23          asses          4\n",
      "24         shitty          4\n",
      "25       shithead          3\n",
      "26         damned          3\n",
      "27          fucks          3\n",
      "28       shitload          2\n",
      "29      horseshit          2\n",
      "30           japs          2\n",
      "31          gooks          2\n",
      "32           cunt          2\n",
      "33     cocksucker          2\n",
      "34        wetback          2\n",
      "35            jap          1\n",
      "36        asshead          1\n",
      "37         fuckup          1\n",
      "38    chickenshit          1\n",
      "39          slope          1\n",
      "40       dickless          1\n",
      "41        fuckers          1\n",
      "42           gook          1\n",
      "43         faggot          1\n",
      "44       fuckface          1\n",
      "45          cunts          1\n",
      "46       fuckhead          1\n",
      "47          merde          1\n",
      "48       bastards          1\n",
      "49       horeshit          1\n",
      "50     jew (verb)          1\n",
      "51   cockblockery          1\n",
      "52       shitting          1\n",
      "53       shitless          1\n",
      "54          squaw          1\n",
      "55           slut          1\n",
      "56        jackass          1\n",
      "57      goddamned          1\n",
      "58      shittiest          1\n",
      "59        dumbass          1\n",
      "\n",
      "Распределение времени между проклятиями:\n",
      " 0       0.03\n",
      "1       0.09\n",
      "2       0.03\n",
      "3       0.06\n",
      "4       0.00\n",
      "        ... \n",
      "1698    0.03\n",
      "1699    0.03\n",
      "1700    0.05\n",
      "1701    0.32\n",
      "1702    0.08\n",
      "Name: minutes_in, Length: 1703, dtype: float64\n"
     ]
    }
   ],
   "execution_count": 85
  },
  {
   "metadata": {},
   "cell_type": "code",
   "outputs": [],
   "execution_count": null,
   "source": "",
   "id": "b385eedcbd999a97"
  }
 ],
 "metadata": {
  "kernelspec": {
   "display_name": "Python 3",
   "language": "python",
   "name": "python3"
  },
  "language_info": {
   "codemirror_mode": {
    "name": "ipython",
    "version": 2
   },
   "file_extension": ".py",
   "mimetype": "text/x-python",
   "name": "python",
   "nbconvert_exporter": "python",
   "pygments_lexer": "ipython2",
   "version": "2.7.6"
  }
 },
 "nbformat": 4,
 "nbformat_minor": 5
}
