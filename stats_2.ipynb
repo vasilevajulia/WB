{
 "cells": [
  {
   "cell_type": "code",
   "id": "initial_id",
   "metadata": {
    "collapsed": true,
    "ExecuteTime": {
     "end_time": "2024-12-15T15:52:51.907682Z",
     "start_time": "2024-12-15T15:52:51.902793Z"
    }
   },
   "source": [
    "# Задача 1\n",
    "import numpy as np\n",
    "from scipy import stats\n",
    "\n",
    "x = np.array([12.9, 11.6, 13.5, 13.9, 12.1, 11.9, 13.0])\n",
    "mu0 = 12\n",
    "alpha = 0.05\n",
    "\n",
    "s2 = (x.std(ddof=1)) ** 2\n",
    "G = (x.mean() - mu0) / (x.std(ddof=1) / np.sqrt(len(x)))\n",
    "df = len(x) - 1\n",
    "P = 2 * (1 - stats.t.cdf(abs(G), df))\n",
    "print(f\"t-Statistic: {G:.4f}, p-value: {P:.4f}\")\n",
    "if P < alpha:\n",
    "    print(\"Нулевая гипотеза отвергается, так как среднее напряжение отличается от 12 В.\")\n",
    "else:\n",
    "    print(\"Нулевая гипотеза не отвергается, так как среднее напряжение равно 12 В.\")"
   ],
   "outputs": [
    {
     "name": "stdout",
     "output_type": "stream",
     "text": [
      "t-Statistic: 2.1578, p-value: 0.0743\n",
      "Нулевая гипотеза не отвергается, так как среднее напряжение равно 12 В.\n"
     ]
    }
   ],
   "execution_count": 33
  },
  {
   "metadata": {
    "ExecuteTime": {
     "end_time": "2024-12-15T15:59:27.319722Z",
     "start_time": "2024-12-15T15:59:27.314648Z"
    }
   },
   "cell_type": "code",
   "source": [
    "# Задача 2\n",
    "method_1 = np.array([23.1, 23.2, 26.5, 26.6, 27.1, 48.3, 40.5, 25.0, 38.4, 23.5])\n",
    "method_2 = np.array([22.7, 23.6, 27.1, 27.4, 27.4, 46.8, 40.4, 24.9, 38.1, 23.8])\n",
    "alpha = 0.05\n",
    "\n",
    "diff = method_1 - method_2\n",
    "s2 = (diff.std(ddof=1)) ** 2\n",
    "G = diff.mean() / (diff.std(ddof=1) / np.sqrt(len(diff)))\n",
    "df = len(diff) - 1\n",
    "P = 2 * (1 - stats.t.cdf(abs(G), df))\n",
    "print(f\"t-Statistic: {G:.4f}, p-value: {P:.4f}\")\n",
    "if P < alpha:\n",
    "    print(\"Нулевая гипотеза отвергается, так как методы дают различающиеся результаты.\")\n",
    "else:\n",
    "    print(\"Нулевая гипотеза не отвергается, так как методы дают одинаковые результаты.\")\n"
   ],
   "id": "c0e84f8c475b3f82",
   "outputs": [
    {
     "name": "stdout",
     "output_type": "stream",
     "text": [
      "t-Statistic: 0.0000, p-value: 1.0000\n",
      "Нулевая гипотеза не отвергается, так как методы дают одинаковые результаты.\n"
     ]
    }
   ],
   "execution_count": 46
  },
  {
   "metadata": {
    "ExecuteTime": {
     "end_time": "2024-12-15T15:59:52.040669Z",
     "start_time": "2024-12-15T15:59:52.034978Z"
    }
   },
   "cell_type": "code",
   "source": [
    "# Задача 3\n",
    "urban = np.array([132, 111, 119, 138, 200, 131, 138, 170, 159, 140])\n",
    "rural = np.array([115, 190, 127, 155, 148, 121, 116, 121, 197])\n",
    "alpha = 0.05\n",
    "\n",
    "G, P = stats.ttest_ind(urban, rural, alternative='greater')\n",
    "print(f\"t-Statistic: {G:.4f}, p-value: {P:.4f}\")\n",
    "if P < alpha:\n",
    "    print(\"Отвергаем нулевую гипотезу, так как среднее давление у горожан выше.\")\n",
    "else:\n",
    "    print(\"Не отвергаем нулевую гипотезу, так как нет оснований утверждать, что давление у горожан выше.\")\n"
   ],
   "id": "6786a9d97455be20",
   "outputs": [
    {
     "name": "stdout",
     "output_type": "stream",
     "text": [
      "t-Statistic: 0.0352, p-value: 0.4862\n",
      "Не отвергаем нулевую гипотезу, так как нет оснований утверждать, что давление у горожан выше.\n"
     ]
    }
   ],
   "execution_count": 50
  },
  {
   "metadata": {
    "ExecuteTime": {
     "end_time": "2024-12-15T15:55:03.919196Z",
     "start_time": "2024-12-15T15:55:03.915192Z"
    }
   },
   "cell_type": "code",
   "source": [
    "# Задача 4\n",
    "observed = np.array([2500, 2500])\n",
    "expected = np.array([2600, 2400])\n",
    "alpha = 0.05\n",
    "\n",
    "chi2 = np.sum((observed - expected) ** 2 / expected)\n",
    "df = len(observed) - 1\n",
    "P = 1 - stats.chi2.cdf(G, df)\n",
    "print(f\"Chi2: {chi2:.4f}, p-value: {P:.4f}\")\n",
    "if P < alpha:\n",
    "    print(\"Нулевая гипотеза отвергается, так как смертность среди мужчин и женщин различается.\")\n",
    "else:\n",
    "    print(\"Нулевая гипотеза не отвергается, так как смертность одинакова.\")\n"
   ],
   "id": "635b23bcbc77cc59",
   "outputs": [
    {
     "name": "stdout",
     "output_type": "stream",
     "text": [
      "Chi2: 8.0128, p-value: 0.8512\n",
      "Нулевая гипотеза не отвергается, так как смертность одинакова.\n"
     ]
    }
   ],
   "execution_count": 36
  },
  {
   "metadata": {
    "ExecuteTime": {
     "end_time": "2024-12-15T15:59:55.328144Z",
     "start_time": "2024-12-15T15:59:55.321913Z"
    }
   },
   "cell_type": "code",
   "source": [
    "# Задача 5\n",
    "print(\"В первом случае разница между средними значима при p = 0.001, так как выборки, вероятно большой, а стандартное отклонение небольшое.\\n\"\"Во втором случае разница между средними незначима при p = 0.8, вероятно из-за большого разброса данных или небольшой выборки.\")\n"
   ],
   "id": "9bcbf419084db6a",
   "outputs": [
    {
     "name": "stdout",
     "output_type": "stream",
     "text": [
      "В первом случае разница между средними значима при p = 0.001, так как выборки, вероятно большой, а стандартное отклонение небольшое.\n",
      "Во втором случае разница между средними незначима при p = 0.8, вероятно из-за большого разброса данных или небольшой выборки.\n"
     ]
    }
   ],
   "execution_count": 51
  }
 ],
 "metadata": {
  "kernelspec": {
   "display_name": "Python 3",
   "language": "python",
   "name": "python3"
  },
  "language_info": {
   "codemirror_mode": {
    "name": "ipython",
    "version": 2
   },
   "file_extension": ".py",
   "mimetype": "text/x-python",
   "name": "python",
   "nbconvert_exporter": "python",
   "pygments_lexer": "ipython2",
   "version": "2.7.6"
  }
 },
 "nbformat": 4,
 "nbformat_minor": 5
}
